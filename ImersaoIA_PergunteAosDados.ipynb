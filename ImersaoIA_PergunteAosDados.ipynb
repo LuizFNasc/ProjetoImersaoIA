{
  "nbformat": 4,
  "nbformat_minor": 0,
  "metadata": {
    "colab": {
      "provenance": [],
      "mount_file_id": "1zI3p6-OUfTPNjz-L6qE0lHarJGxHijgb",
      "authorship_tag": "ABX9TyP3BL0G7/8LeyFDly9LdsF4",
      "include_colab_link": true
    },
    "kernelspec": {
      "name": "python3",
      "display_name": "Python 3"
    },
    "language_info": {
      "name": "python"
    }
  },
  "cells": [
    {
      "cell_type": "markdown",
      "metadata": {
        "id": "view-in-github",
        "colab_type": "text"
      },
      "source": [
        "<a href=\"https://colab.research.google.com/github/LuizFNasc/ProjetoImersaoIA/blob/main/ImersaoIA_PergunteAosDados.ipynb\" target=\"_parent\"><img src=\"https://colab.research.google.com/assets/colab-badge.svg\" alt=\"Open In Colab\"/></a>"
      ]
    },
    {
      "cell_type": "code",
      "source": [
        "#Instalando o SDK do Google\n",
        "!pip install -q -U google-generativeai\n",
        "!pip install PyPDF2"
      ],
      "metadata": {
        "colab": {
          "base_uri": "https://localhost:8080/"
        },
        "id": "LmixZZ8serYi",
        "outputId": "a27f02dd-c02e-46da-a578-5bf7128e46a9"
      },
      "execution_count": 9,
      "outputs": [
        {
          "output_type": "stream",
          "name": "stdout",
          "text": [
            "Requirement already satisfied: PyPDF2 in /usr/local/lib/python3.10/dist-packages (3.0.1)\n"
          ]
        }
      ]
    },
    {
      "cell_type": "code",
      "source": [
        "#Configurações iniciais\n",
        "import google.generativeai as genai\n",
        "from google.colab import userdata\n",
        "api_key = userdata.get('SECRET_KEY')\n",
        "genai.configure(api_key=api_key)"
      ],
      "metadata": {
        "id": "WwJgJ-LWeuST"
      },
      "execution_count": 10,
      "outputs": []
    },
    {
      "cell_type": "code",
      "source": [
        "# Itera sobre todos os modelos disponíveis na API genai.\n",
        "for m in genai.list_models():\n",
        "  if 'generateContent' in m.supported_generation_methods:\n",
        "    print(m.name)"
      ],
      "metadata": {
        "colab": {
          "base_uri": "https://localhost:8080/",
          "height": 139
        },
        "id": "A9VKlA-aewra",
        "outputId": "737a3d74-4eb3-41ab-ab67-aec2727f6211"
      },
      "execution_count": 11,
      "outputs": [
        {
          "output_type": "stream",
          "name": "stdout",
          "text": [
            "models/gemini-1.0-pro\n",
            "models/gemini-1.0-pro-001\n",
            "models/gemini-1.0-pro-latest\n",
            "models/gemini-1.0-pro-vision-latest\n",
            "models/gemini-1.5-pro-latest\n",
            "models/gemini-pro\n",
            "models/gemini-pro-vision\n"
          ]
        }
      ]
    },
    {
      "cell_type": "code",
      "source": [
        "# Define as configurações de geração para a API.\n",
        "generation_config = {\n",
        "  \"candidate_count\": 1, # Número de candidatos a serem gerados.\n",
        "  \"temperature\": 0.5, # Controla a criatividade da geração.\n",
        "}"
      ],
      "metadata": {
        "id": "-Fp9KDqAgObJ"
      },
      "execution_count": 12,
      "outputs": []
    },
    {
      "cell_type": "code",
      "source": [
        "# Define as configurações de segurança para a API.\n",
        "safety_settings = {\n",
        "    'HATE': 'BLOCK_NONE',        # Não bloquear conteúdo de ódio.\n",
        "    'HARASSMENT': 'BLOCK_NONE',   # Não bloquear conteúdo de assédio.\n",
        "    'SEXUAL': 'BLOCK_NONE',       # Não bloquear conteúdo sexual.\n",
        "    'DANGEROUS': 'BLOCK_NONE'    # Não bloquear conteúdo perigoso.\n",
        "}"
      ],
      "metadata": {
        "id": "5ScbieyzgSCI"
      },
      "execution_count": 13,
      "outputs": []
    },
    {
      "cell_type": "code",
      "source": [
        "# Cria uma instância do modelo GenerativeModel com configurações específicas.\n",
        "model = genai.GenerativeModel(model_name='gemini-pro', # Nome do modelo a ser usado.\n",
        "                                  generation_config=generation_config, # Configurações de geração de texto.\n",
        "                                  safety_settings=safety_settings,) # Configurações de segurança para o conteúdo."
      ],
      "metadata": {
        "id": "QzC42e9tgZVo"
      },
      "execution_count": 14,
      "outputs": []
    },
    {
      "cell_type": "code",
      "source": [
        "import PyPDF2\n",
        "\n",
        "# Função para extrair o texto de um arquivo PDF.\n",
        "def extract_text_from_pdf(pdf_path):\n",
        "    with open(pdf_path, 'rb') as pdf_file:\n",
        "        pdf_reader = PyPDF2.PdfReader(pdf_file)\n",
        "        text = \"\"\n",
        "        for page_num in range(len(pdf_reader.pages)):\n",
        "            page = pdf_reader.pages[page_num]\n",
        "            text += page.extract_text()\n",
        "    return text\n",
        "\n",
        "# Inicia um chat com o modelo.\n",
        "chat = model.start_chat(history=[])\n",
        "\n",
        "# Extrai o texto do arquivo PDF.\n",
        "pdf_text = extract_text_from_pdf(\"/content/drive/MyDrive/ImersaoIA/Modelo de Contrato de Locação de Imóvel - ficticio.pdf\")\n",
        "\n",
        "# Envia o texto do PDF para o modelo e obtém a resposta.\n",
        "response = chat.send_message(pdf_text)\n",
        "\n",
        "# Imprime a resposta do modelo.\n",
        "print(response)"
      ],
      "metadata": {
        "colab": {
          "base_uri": "https://localhost:8080/",
          "height": 141
        },
        "id": "PXuxLL3ZNWJn",
        "outputId": "d67dc962-b0f1-4ed1-d360-43cd20df8532"
      },
      "execution_count": 15,
      "outputs": [
        {
          "output_type": "stream",
          "name": "stdout",
          "text": [
            "response:\n",
            "GenerateContentResponse(\n",
            "    done=True,\n",
            "    iterator=None,\n",
            "    result=glm.GenerateContentResponse({'candidates': [{'content': {'parts': [{'text': '**Contrato de Locação de Imóvel Residencial**\\n\\n**Dados do Locador:**\\n\\n* Nome: Ana Maria dos Santos Silva\\n* RG: 12.345.678-9\\n* CPF: 123.456.789-00\\n* Endereço: Rua das Flores, nº 100, apto 501, Bairro Jardim, Rio de Janeiro - RJ\\n\\n**Dados do Locatário:**\\n\\n* Nome: João Carlos Pereira\\n* RG: 98.765.432-1\\n* CPF: 098.765.432-11\\n* Endereço: Avenida Brasil, nº 2000, apto 102, Bairro Centro, São Paulo - SP\\n\\n**Cláusula 1ª - Objeto**\\n\\nO presente contrato tem como objeto a locação do imóvel residencial situado na Rua das Palmeiras, nº 50, apto 302, Bairro Bela Vista, São Paulo - SP, com área de 80 m², contendo 2 quartos, sala, cozinha, banheiro e área de serviço.\\n\\n**Cláusula 2ª - Prazo**\\n\\nO prazo de locação é de 36 (trinta e seis) meses, iniciando-se em 01 de novembro de 2023 e terminando em 31 de outubro de 2026, independentemente de aviso, notificação ou interpelação judicial ou extrajudicial.\\n\\n**Cláusula 3ª - Valor do Aluguel e Forma de Pagamento**\\n\\nO valor do aluguel mensal é de R$ 2.500,00 (dois mil e quinhentos reais), a ser pago pelo LOCATÁRIO até o dia 10 de cada mês, através de depósito bancário na conta corrente de titularidade do LOCADOR.\\n\\n**Cláusula 4ª - Garantia Locatícia**\\n\\nComo garantia do presente contrato, fica estabelecido o seguro fiança locatícia. O LOCATÁRIO se compromete a contratar um seguro fiança locatícia, em seguradora de sua livre escolha, com cobertura para todo o período de vigência do contrato.\\n\\n**Cláusula 5ª - Obrigações do Locador**\\n\\nSão obrigações do LOCADOR:\\n\\n* Entregar o imóvel em perfeitas condições de uso e habitabilidade, conforme vistoria realizada em [data da vistoria] e descrita no Laudo de Vistoria anexo a este contrato.\\n* Fornecer ao LOCATÁRIO os comprovantes do pagamento do IPTU e demais tributos incidentes sobre o imóvel, até o dia [data limite para entrega dos comprovantes] de cada ano.\\n* Realizar os reparos necessários no imóvel, desde que decorrentes de problemas estruturais ou de desgaste natural do tempo, no prazo máximo de [prazo para realização dos reparos] dias após a comunicação por escrito do LOCATÁRIO.\\n\\n**Cláusula 6ª - Obrigações do Locatário**\\n\\nSão obrigações do LOCATÁRIO:\\n\\n* Pagar pontualmente o aluguel e demais encargos locatícios, como condomínio, IPTU (se acordado), água, luz, gás e outros serviços utilizados no imóvel.\\n* Utilizar o imóvel exclusivamente para fins residenciais, sendo vedada a sua sublocação total ou parcial, sem a expressa autorização do LOCADOR.\\n* Manter o imóvel em bom estado de conservação e limpeza, realizando a manutenção preventiva e corretiva dos equipamentos e instalações internas.\\n* Comunicar ao LOCADOR, por escrito, qualquer dano ou defeito que ocorra no imóvel, no prazo máximo de [prazo para comunicação de danos] dias, para que sejam tomadas as devidas providências.\\n* Devolver o imóvel, ao término do contrato, nas mesmas condições em que o recebeu, salvo as deteriorações decorrentes do uso normal, conforme descrito no Laudo de Vistoria.\\n* Respeitar as normas internas do condomínio, se houver, evitando causar incômodo aos vizinhos.\\n\\n**Cláusula 7ª - Rescisão**\\n\\nO presente contrato poderá ser rescindido por mútuo acordo entre as partes ou nas seguintes hipóteses:\\n\\n* Falta de pagamento do aluguel ou dos encargos locatícios por mais de 30 (trinta) dias, após notificação prévia por escrito.\\n* Danos ao imóvel causados pelo LOCATÁRIO, que excedam o desgaste natural do uso, sem a devida reparação.\\n* Descumprimento de qualquer cláusula deste contrato, após notificação prévia por escrito, sem a regularização no prazo estipulado.\\n* Necessidade de uso do imóvel pelo LOCADOR, mediante aviso prévio de [prazo de aviso prévio] dias.\\n\\n**Cláusula 8ª - Foro**\\n\\nFica eleito o Foro da Comarca de São Paulo - SP para dirimir quaisquer dúvidas ou controvérsias oriundas deste contrato.\\n\\n**Assinaturas:**\\n\\n**Locador:**\\n\\n_________________________\\nAna Maria dos Santos Silva\\n\\n**Locatário:**\\n\\n_________________________\\nJoão Carlos Pereira\\n\\n**Testemunhas:**\\n\\n1. Nome: _________________________\\n2. Nome: _________________________'}], 'role': 'model'}, 'finish_reason': 1, 'index': 0, 'safety_ratings': [{'category': 9, 'probability': 1, 'blocked': False}, {'category': 8, 'probability': 1, 'blocked': False}, {'category': 7, 'probability': 1, 'blocked': False}, {'category': 10, 'probability': 1, 'blocked': False}], 'token_count': 0, 'grounding_attributions': []}]}),\n",
            ")\n"
          ]
        }
      ]
    },
    {
      "cell_type": "code",
      "source": [
        "# Inicia um loop que continua até que o usuário digite \"fim\".\n",
        "prompt = input('Esperando prompt: ')\n",
        "while prompt != \"fim\":\n",
        "  # Envia o prompt do usuário para o modelo e obtém a resposta.\n",
        "  response = chat.send_message(prompt)\n",
        "\n",
        "  # Imprime a resposta do modelo.\n",
        "  print(\"Resposta:\", response.text, '\\n\\n')\n",
        "\n",
        "  # Solicita um novo prompt do usuário.\n",
        "  prompt = input('Esperando prompt: ')"
      ],
      "metadata": {
        "colab": {
          "base_uri": "https://localhost:8080/",
          "height": 124
        },
        "id": "pJjVmWn_aq06",
        "outputId": "a6259a5e-601e-49c8-8e54-fc16e0c13981"
      },
      "execution_count": 16,
      "outputs": [
        {
          "name": "stdout",
          "output_type": "stream",
          "text": [
            "Esperando prompt: qual a validade do contrato\n",
            "Resposta: O contrato de locação residencial tem validade de **36 (trinta e seis) meses**, iniciando-se em 01 de novembro de 2023 e terminando em 31 de outubro de 2026, conforme estabelecido na **Cláusula 2ª - Prazo** do contrato. \n",
            "\n",
            "\n",
            "Esperando prompt: fim\n"
          ]
        }
      ]
    }
  ]
}