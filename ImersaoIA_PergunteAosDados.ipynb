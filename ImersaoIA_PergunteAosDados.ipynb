{
  "nbformat": 4,
  "nbformat_minor": 0,
  "metadata": {
    "colab": {
      "provenance": [],
      "mount_file_id": "1zI3p6-OUfTPNjz-L6qE0lHarJGxHijgb",
      "authorship_tag": "ABX9TyMctE194ccrDJCsPETm4IK/",
      "include_colab_link": true
    },
    "kernelspec": {
      "name": "python3",
      "display_name": "Python 3"
    },
    "language_info": {
      "name": "python"
    }
  },
  "cells": [
    {
      "cell_type": "markdown",
      "metadata": {
        "id": "view-in-github",
        "colab_type": "text"
      },
      "source": [
        "<a href=\"https://colab.research.google.com/github/LuizFNasc/ProjetoImersaoIA/blob/main/ImersaoIA_PergunteAosDados.ipynb\" target=\"_parent\"><img src=\"https://colab.research.google.com/assets/colab-badge.svg\" alt=\"Open In Colab\"/></a>"
      ]
    },
    {
      "cell_type": "code",
      "source": [
        "#Instalando o SDK do Google\n",
        "!pip install -q -U google-generativeai\n",
        "!pip install PyPDF2"
      ],
      "metadata": {
        "colab": {
          "base_uri": "https://localhost:8080/"
        },
        "id": "LmixZZ8serYi",
        "outputId": "a27f02dd-c02e-46da-a578-5bf7128e46a9"
      },
      "execution_count": 9,
      "outputs": [
        {
          "output_type": "stream",
          "name": "stdout",
          "text": [
            "Requirement already satisfied: PyPDF2 in /usr/local/lib/python3.10/dist-packages (3.0.1)\n"
          ]
        }
      ]
    },
    {
      "cell_type": "code",
      "source": [
        "#Configurações iniciais\n",
        "import google.generativeai as genai\n",
        "from google.colab import userdata\n",
        "api_key = userdata.get('SECRET_KEY')\n",
        "genai.configure(api_key=api_key)"
      ],
      "metadata": {
        "id": "WwJgJ-LWeuST"
      },
      "execution_count": 10,
      "outputs": []
    },
    {
      "cell_type": "code",
      "source": [
        "# Itera sobre todos os modelos disponíveis na API genai.\n",
        "for m in genai.list_models():\n",
        "  if 'generateContent' in m.supported_generation_methods:\n",
        "    print(m.name)"
      ],
      "metadata": {
        "colab": {
          "base_uri": "https://localhost:8080/",
          "height": 139
        },
        "id": "A9VKlA-aewra",
        "outputId": "737a3d74-4eb3-41ab-ab67-aec2727f6211"
      },
      "execution_count": 11,
      "outputs": [
        {
          "output_type": "stream",
          "name": "stdout",
          "text": [
            "models/gemini-1.0-pro\n",
            "models/gemini-1.0-pro-001\n",
            "models/gemini-1.0-pro-latest\n",
            "models/gemini-1.0-pro-vision-latest\n",
            "models/gemini-1.5-pro-latest\n",
            "models/gemini-pro\n",
            "models/gemini-pro-vision\n"
          ]
        }
      ]
    },
    {
      "cell_type": "code",
      "source": [
        "# Define as configurações de geração para a API.\n",
        "generation_config = {\n",
        "  \"candidate_count\": 1, # Número de candidatos a serem gerados.\n",
        "  \"temperature\": 0.5, # Controla a criatividade da geração.\n",
        "}"
      ],
      "metadata": {
        "id": "-Fp9KDqAgObJ"
      },
      "execution_count": 12,
      "outputs": []
    },
    {
      "cell_type": "code",
      "source": [
        "# Define as configurações de segurança para a API.\n",
        "safety_settings = {\n",
        "    'HATE': 'BLOCK_NONE',        # Não bloquear conteúdo de ódio.\n",
        "    'HARASSMENT': 'BLOCK_NONE',   # Não bloquear conteúdo de assédio.\n",
        "    'SEXUAL': 'BLOCK_NONE',       # Não bloquear conteúdo sexual.\n",
        "    'DANGEROUS': 'BLOCK_NONE'    # Não bloquear conteúdo perigoso.\n",
        "}"
      ],
      "metadata": {
        "id": "5ScbieyzgSCI"
      },
      "execution_count": 13,
      "outputs": []
    },
    {
      "cell_type": "code",
      "source": [
        "# Cria uma instância do modelo GenerativeModel com configurações específicas.\n",
        "model = genai.GenerativeModel(model_name='gemini-pro', # Nome do modelo a ser usado.\n",
        "                                  generation_config=generation_config, # Configurações de geração de texto.\n",
        "                                  safety_settings=safety_settings,) # Configurações de segurança para o conteúdo."
      ],
      "metadata": {
        "id": "QzC42e9tgZVo"
      },
      "execution_count": 14,
      "outputs": []
    },
    {
      "cell_type": "code",
      "source": [
        "import PyPDF2\n",
        "\n",
        "# Função para extrair o texto de um arquivo PDF.\n",
        "def extract_text_from_pdf(pdf_path):\n",
        "    with open(pdf_path, 'rb') as pdf_file:\n",
        "        pdf_reader = PyPDF2.PdfReader(pdf_file)\n",
        "        text = \"\"\n",
        "        for page_num in range(len(pdf_reader.pages)):\n",
        "            page = pdf_reader.pages[page_num]\n",
        "            text += page.extract_text()\n",
        "    return text\n",
        "\n",
        "# Inicia um chat com o modelo.\n",
        "chat = model.start_chat(history=[])\n",
        "\n",
        "# Extrai o texto do arquivo PDF.\n",
        "pdf_text = extract_text_from_pdf(\"/content/drive/MyDrive/ImersaoIA/Modelo de Contrato de Locação de Imóvel - ficticio.pdf\")\n",
        "\n",
        "# Envia o texto do PDF para o modelo e obtém a resposta.\n",
        "response = chat.send_message(pdf_text)\n",
        "\n",
        "# Imprime a resposta do modelo.\n",
        "print(\"\\nResposta do modelo:\")\n",
        "print(response)"
      ],
      "metadata": {
        "colab": {
          "base_uri": "https://localhost:8080/",
          "height": 176
        },
        "id": "PXuxLL3ZNWJn",
        "outputId": "e5f6c2b7-a004-492a-f459-894e67234d61"
      },
      "execution_count": 17,
      "outputs": [
        {
          "output_type": "stream",
          "name": "stdout",
          "text": [
            "\n",
            "Resposta do modelo:\n",
            "response:\n",
            "GenerateContentResponse(\n",
            "    done=True,\n",
            "    iterator=None,\n",
            "    result=glm.GenerateContentResponse({'candidates': [{'content': {'parts': [{'text': '**Contrato de Locação de Imóvel Residencial**\\n\\n**Dados dos Contratantes:**\\n\\n**Locador(a):**\\n* Nome: Ana Maria dos Santos Silva\\n* CPF: 123.456.789-00\\n* Endereço: Rua das Flores, nº 100, apto. 501, Bairro Jardim, Rio de Janeiro - RJ\\n\\n**Locatário(a):**\\n* Nome: João Carlos Pereira\\n* CPF: 098.765.432-11\\n* Endereço: Avenida Brasil, nº 2000, apto. 102, Bairro Centro, São Paulo - SP\\n\\n**Objeto:**\\n\\nLocação do imóvel residencial situado na Rua das Palmeiras, nº 50, apto. 302, Bairro Bela Vista, São Paulo - SP, com área de 80 m², contendo 2 quartos, sala, cozinha, banheiro e área de serviço.\\n\\n**Prazo:**\\n\\nInício: 01 de novembro de 2023\\nTérmino: 31 de outubro de 2026\\n\\n**Valor do Aluguel e Forma de Pagamento:**\\n\\n* Valor mensal: R$ 2.500,00 (dois mil e quinhentos reais)\\n* Forma de pagamento: depósito bancário na conta corrente do Locador até o dia 10 de cada mês.\\n\\n**Garantia Locatícia:**\\n\\nSeguro fiança locatícia contratado pelo Locatário.\\n\\n**Obrigações do Locador:**\\n\\n* Entregar o imóvel em perfeitas condições de uso e habitabilidade.\\n* Fornecer comprovantes de pagamento de IPTU e demais tributos incidentes sobre o imóvel.\\n* Realizar reparos necessários decorrentes de problemas estruturais ou desgaste natural do tempo.\\n\\n**Obrigações do Locatário:**\\n\\n* Pagar pontualmente o aluguel e encargos locatícios.\\n* Utilizar o imóvel exclusivamente para fins residenciais, vedada a sublocação.\\n* Manter o imóvel em bom estado de conservação e limpeza.\\n* Comunicar danos ou defeitos ao Locador.\\n* Devolver o imóvel nas mesmas condições em que o recebeu.\\n* Respeitar as normas internas do condomínio, se houver.\\n\\n**Rescisão:**\\n\\n* Mútuo acordo entre as partes.\\n* Falta de pagamento do aluguel ou encargos locatícios por mais de 30 dias.\\n* Danos ao imóvel causados pelo Locatário.\\n* Descumprimento de qualquer cláusula do contrato.\\n* Necessidade de uso do imóvel pelo Locador.\\n\\n**Foro:**\\n\\nForo da Comarca de São Paulo - SP.\\n\\n**Assinaturas:**\\n\\nAssinado em 2 (duas) vias de igual teor e forma, na presença das testemunhas abaixo.\\n\\nSão Paulo, 1 de outubro de 2023\\n\\n**Locador(a):**\\n\\n[Assinatura de Ana Maria]\\n\\n**Locatário(a):**\\n\\n[Assinatura de João Carlos]\\n\\n**Testemunhas:**\\n\\n1. Nome: [Luiz]\\n2. Nome: [Felipe]'}], 'role': 'model'}, 'finish_reason': 1, 'index': 0, 'safety_ratings': [{'category': 9, 'probability': 1, 'blocked': False}, {'category': 8, 'probability': 1, 'blocked': False}, {'category': 7, 'probability': 1, 'blocked': False}, {'category': 10, 'probability': 1, 'blocked': False}], 'token_count': 0, 'grounding_attributions': []}]}),\n",
            ")\n"
          ]
        }
      ]
    },
    {
      "cell_type": "markdown",
      "source": [
        "# Aqui estão algumas sugestões de perguntas, mas a possibilidade são infinitas\n",
        "\n",
        "* Qual o endereço do imóvel?\n",
        "* Qual o valor mensal do aluguel?\n",
        "* Quem é o locatário?\n",
        "* Qual o prazo do contrato?\n",
        "* Qual a data de assinatura do contrato?\n",
        "* Qual a comarca do contrato?\n",
        "* Quantas cláusulas o contrato possui?"
      ],
      "metadata": {
        "id": "Aa-exDjQ1ymY"
      }
    },
    {
      "cell_type": "code",
      "source": [
        "# Inicia um loop que continua até que o usuário digite \"fim\".\n",
        "prompt = input('Esperando prompt: ')\n",
        "while prompt != \"fim\":\n",
        "  # Envia o prompt do usuário para o modelo e obtém a resposta.\n",
        "  response = chat.send_message(prompt)\n",
        "\n",
        "  # Imprime a resposta do modelo.\n",
        "  print(\"## Resposta:\\n\\n\" + response.text + '\\n\\n')\n",
        "\n",
        "  # Solicita um novo prompt do usuário.\n",
        "  prompt = input('Esperando prompt: ')\n",
        "  print(\"_____________________________________________________________\")"
      ],
      "metadata": {
        "colab": {
          "base_uri": "https://localhost:8080/",
          "height": 1000
        },
        "id": "pJjVmWn_aq06",
        "outputId": "2afaf3c8-0c7e-4e95-aed5-7d6d3e143588"
      },
      "execution_count": 21,
      "outputs": [
        {
          "output_type": "stream",
          "name": "stdout",
          "text": [
            "Esperando prompt: Qual o endereço do imóvel?\n",
            "## Resposta:\n",
            "\n",
            "**Endereço do imóvel:**\n",
            "\n",
            "Rua das Palmeiras, nº 50, apto. 302, Bairro Bela Vista, São Paulo - SP\n",
            "\n",
            "\n",
            "Esperando prompt: Qual o valor mensal do aluguel?\n",
            "_____________________________________________________________\n",
            "## Resposta:\n",
            "\n",
            "**Valor mensal do aluguel:**\n",
            "\n",
            "R$ 2.500,00 (dois mil e quinhentos reais)\n",
            "\n",
            "\n",
            "Esperando prompt: Quem é o locatário?\n",
            "_____________________________________________________________\n",
            "## Resposta:\n",
            "\n",
            "**Locatário:**\n",
            "\n",
            "João Carlos Pereira\n",
            "\n",
            "\n",
            "Esperando prompt: Qual o prazo do contrato?\n",
            "_____________________________________________________________\n",
            "## Resposta:\n",
            "\n",
            "**Prazo do contrato:**\n",
            "\n",
            "36 (trinta e seis) meses\n",
            "\n",
            "\n",
            "Esperando prompt: Qual a data de assinatura do contrato?\n",
            "_____________________________________________________________\n",
            "## Resposta:\n",
            "\n",
            "**Data de assinatura do contrato:**\n",
            "\n",
            "1 de outubro de 2023\n",
            "\n",
            "\n",
            "Esperando prompt: Qual a comarca do contrato?\n",
            "_____________________________________________________________\n",
            "## Resposta:\n",
            "\n",
            "**Comarca do contrato:**\n",
            "\n",
            "São Paulo - SP\n",
            "\n",
            "\n",
            "Esperando prompt: Quantas cláusulas o contrato possui?\n",
            "_____________________________________________________________\n",
            "## Resposta:\n",
            "\n",
            "**Número de cláusulas do contrato:**\n",
            "\n",
            "8 (oito)\n",
            "\n",
            "\n",
            "Esperando prompt: fim\n",
            "_____________________________________________________________\n"
          ]
        }
      ]
    }
  ]
}